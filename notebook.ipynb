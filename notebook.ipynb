{
 "cells": [
  {
   "cell_type": "code",
   "execution_count": 6,
   "metadata": {},
   "outputs": [
    {
     "name": "stdout",
     "output_type": "stream",
     "text": [
      "(0, 0, 0)\n"
     ]
    },
    {
     "data": {
      "text/plain": [
       "<bound method Image.show of <PIL.PngImagePlugin.PngImageFile image mode=RGB size=4032x3024 at 0x7FA4D03075E0>>"
      ]
     },
     "execution_count": 6,
     "metadata": {},
     "output_type": "execute_result"
    }
   ],
   "source": [
    "from PIL import Image\n",
    "im=Image.open('/workspaces/Trophee-NSI/IMG_4939.png')\n",
    "px=im.load()\n",
    "coordinate = (5,5) \n",
    "#print (im.getpixel(coordinate))\n",
    "for i in range(30):\n",
    "    for k in range(30):\n",
    "        im.putpixel((i,k),(0,0,0))\n",
    "print(im.getpixel(coordinate))\n",
    "im.show"
   ]
  }
 ],
 "metadata": {
  "kernelspec": {
   "display_name": "Python 3 (ipykernel)",
   "language": "python",
   "name": "python3"
  },
  "language_info": {
   "codemirror_mode": {
    "name": "ipython",
    "version": 3
   },
   "file_extension": ".py",
   "mimetype": "text/x-python",
   "name": "python",
   "nbconvert_exporter": "python",
   "pygments_lexer": "ipython3",
   "version": "3.10.13"
  }
 },
 "nbformat": 4,
 "nbformat_minor": 2
}
