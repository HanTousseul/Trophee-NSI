{
 "cells": [
  {
   "cell_type": "code",
   "execution_count": 5,
   "metadata": {},
   "outputs": [
    {
     "ename": "IndexError",
     "evalue": "string index out of range",
     "output_type": "error",
     "traceback": [
      "\u001b[1;31m---------------------------------------------------------------------------\u001b[0m",
      "\u001b[1;31mIndexError\u001b[0m                                Traceback (most recent call last)",
      "Cell \u001b[1;32mIn[5], line 20\u001b[0m\n\u001b[0;32m     17\u001b[0m         im\u001b[38;5;241m.\u001b[39mputpixel(k \u001b[38;5;241m%\u001b[39m w_img,k\u001b[38;5;241m/\u001b[39m\u001b[38;5;241m/\u001b[39mw_img)\n\u001b[0;32m     18\u001b[0m     im\u001b[38;5;241m.\u001b[39mshow\n\u001b[1;32m---> 20\u001b[0m \u001b[43mtraitement_image\u001b[49m\u001b[43m(\u001b[49m\u001b[38;5;124;43m'\u001b[39;49m\u001b[38;5;124;43mbonjour\u001b[39;49m\u001b[38;5;124;43m'\u001b[39;49m\u001b[43m)\u001b[49m\n",
      "Cell \u001b[1;32mIn[5], line 11\u001b[0m, in \u001b[0;36mtraitement_image\u001b[1;34m(texte)\u001b[0m\n\u001b[0;32m      9\u001b[0m binaire\u001b[38;5;241m=\u001b[39m\u001b[38;5;124m'\u001b[39m\u001b[38;5;124m'\u001b[39m\u001b[38;5;241m.\u001b[39mjoin(\u001b[38;5;28mformat\u001b[39m(\u001b[38;5;28mord\u001b[39m(i), \u001b[38;5;124m'\u001b[39m\u001b[38;5;124m08b\u001b[39m\u001b[38;5;124m'\u001b[39m) \u001b[38;5;28;01mfor\u001b[39;00m i \u001b[38;5;129;01min\u001b[39;00m texte)\u001b[38;5;66;03m#la variable binaire devient un string de binaire correspondant au texte donne en argument\u001b[39;00m\n\u001b[0;32m     10\u001b[0m \u001b[38;5;28;01mfor\u001b[39;00m i \u001b[38;5;129;01min\u001b[39;00m \u001b[38;5;28mrange\u001b[39m(\u001b[38;5;241m0\u001b[39m,\u001b[38;5;28mlen\u001b[39m(binaire),\u001b[38;5;241m3\u001b[39m):\n\u001b[1;32m---> 11\u001b[0m     liste_binaire\u001b[38;5;241m.\u001b[39mappend((binaire[i]\u001b[38;5;241m.\u001b[39mjoin(binaire[i\u001b[38;5;241m+\u001b[39m\u001b[38;5;241m1\u001b[39m]\u001b[38;5;241m.\u001b[39mjoin(\u001b[43mbinaire\u001b[49m\u001b[43m[\u001b[49m\u001b[43mi\u001b[49m\u001b[38;5;241;43m+\u001b[39;49m\u001b[38;5;241;43m2\u001b[39;49m\u001b[43m]\u001b[49m)))) \u001b[38;5;66;03m#liste_binaire est une liste qui contient des strings de trois bits chacun, pour pouvoir les incorporer a l'image\u001b[39;00m\n\u001b[0;32m     12\u001b[0m \u001b[38;5;28;01mfor\u001b[39;00m k \u001b[38;5;129;01min\u001b[39;00m \u001b[38;5;28mrange\u001b[39m(\u001b[38;5;28mlen\u001b[39m(liste_binaire)):\n\u001b[0;32m     13\u001b[0m     tpl\u001b[38;5;241m=\u001b[39mim\u001b[38;5;241m.\u001b[39mgetpixel(k \u001b[38;5;241m%\u001b[39m w_img,k\u001b[38;5;241m/\u001b[39m\u001b[38;5;241m/\u001b[39mw_img)\n",
      "\u001b[1;31mIndexError\u001b[0m: string index out of range"
     ]
    }
   ],
   "source": [
    "from PIL import Image\n",
    "def traitement_image(texte):\n",
    "    liste_binaire=[]\n",
    "    #on doit trouver une facon de stocker la photo de maniere \"universelle\" i.e que ca marche partout\n",
    "    im=Image.open(r'C:\\Users\\marca\\Desktop\\VS Code\\Trophee NSI\\IMG_4939.png')\n",
    "    #join() sert a concatener des strings, format converit du ASCII en binaire et ord convertit le Unicode en ASCII\n",
    "    w_img=(im.size)[0]\n",
    "    h_img=(im.size)[1]\n",
    "    binaire=''.join(format(ord(i), '08b') for i in texte)#la variable binaire est un string de binaire correspondant au texte donne en argument\n",
    "    for i in range(2,len(binaire),3):\n",
    "        liste_binaire.append((binaire[i-2].join(binaire[i-1].join(binaire[i])))) #liste_binaire est une liste qui contient des strings de trois bits chacun, pour pouvoir les incorporer a l'image\n",
    "    restant=len(binaire)%3\n",
    "    for k in range(len(liste_binaire)):\n",
    "        tpl=im.getpixel(k % w_img,k//w_img)\n",
    "        couleur=tpl.list()\n",
    "        couleur_bin=[bin(couleur[0]),bin(couleur[1]),bin(couleur)[2]]\n",
    "        str_0= str_0-couleur_bin[0]%1000+liste_binaire[k]\n",
    "        im.putpixel(k % w_img,k//w_img)\n",
    "    im.show\n",
    "\n",
    "traitement_image('bonjour')"
   ]
  }
 ],
 "metadata": {
  "kernelspec": {
   "display_name": "Python 3 (ipykernel)",
   "language": "python",
   "name": "python3"
  },
  "language_info": {
   "codemirror_mode": {
    "name": "ipython",
    "version": 3
   },
   "file_extension": ".py",
   "mimetype": "text/x-python",
   "name": "python",
   "nbconvert_exporter": "python",
   "pygments_lexer": "ipython3",
   "version": "3.12.1"
  }
 },
 "nbformat": 4,
 "nbformat_minor": 2
}
