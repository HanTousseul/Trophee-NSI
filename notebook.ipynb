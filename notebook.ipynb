{
 "cells": [
  {
   "cell_type": "code",
   "execution_count": 1,
   "metadata": {},
   "outputs": [],
   "source": [
    "from PIL import Image\n",
    "\n",
    "def traitement_image(file, texte):\n",
    "    liste_binaire=[]\n",
    "    im = Image.open(file)\n",
    "    im = im.convert('RGBA')\n",
    "    w_img=(im.size)[0]\n",
    "    h_img=(im.size)[1]\n",
    "    binaire=''.join(format(ord(i), '08b') for i in texte)#la variable binaire est un string de binaire correspondant au texte donne en argument\n",
    "    for i in range(len(binaire)):\n",
    "        liste_binaire.append(int(binaire[i])) #liste_binaire est une liste contenant des strings. chaque string est un nombre en binaire\n",
    "    nb_pixels = len(liste_binaire)//4\n",
    "    for k in range(nb_pixels):\n",
    "        coordinate = x, y = k % w_img, k//w_img # on place les bits en partant du pixel en haut a droite. on incremente de un a un vers la gauche jusqua toucher la limite droite, on revient ensuite a gauche en descendant d'une ligne. donc l'abscisse est de k modulo la largeur de l'image, et l'ordonnee est la division entiere de k par la largeur de l'image.\n",
    "        tpl = im.getpixel(coordinate)\n",
    "        couleur = list(tpl)\n",
    "        couleur_bin = [int((bin(couleur[0]))[2:10]), int((bin(couleur[1]))[2:10]), int((bin(couleur[2]))[2:10]),int((bin(couleur[3]))[2:10])] #couleur_bin est une liste. les valeurs prises sont 'couleur' en binaire, string, auquel on enleve le '0b' du debut(avec un slice), et qu'on reconvertit en string\n",
    "        for i in range(4):\n",
    "            if liste_binaire[4*k+i] != couleur_bin[i] % 2:\n",
    "                couleur_bin[i]=str((couleur_bin[i]//10)*10+liste_binaire[4*k+i])\n",
    "                couleur_bin[i]=int((couleur_bin)[i],2)\n",
    "            else:\n",
    "                couleur_bin[i]=int(str(couleur_bin[i]),2)\n",
    "        couleur_bin=tuple(couleur_bin)\n",
    "        im.putpixel(((k % w_img),(k//w_img)),couleur_bin)\n",
    "    # la varibale liste_nb_pixels contient la valeur en binaire sur 32 bits du nombre de pixels a decoder\n",
    "    liste_nb_pixels=list(bin(nb_pixels))\n",
    "    liste_nb_pixels.pop(0)\n",
    "    liste_nb_pixels.pop(0)\n",
    "    liste_nb_pixels.reverse()\n",
    "    for i in range(len(liste_nb_pixels)):\n",
    "        liste_nb_pixels[i]=int(liste_nb_pixels[i])\n",
    "    while len(liste_nb_pixels)<32:\n",
    "        liste_nb_pixels.append(0)\n",
    "    #je laisse la liste a l'envers car je vais prendre les pixels en partant du bit de poids faible, c'est plus simple pr la boucle\n",
    "    for i in range(8):\n",
    "        x=-1-i%w_img#j'utilise ces operations sur x et y pour que le nombre de pixel stocke soit ecrit meme si l'image fait moins de 8 pixels de large\n",
    "        y=-1-i//w_img\n",
    "        couleur_pixel=list(im.getpixel([x,y]))\n",
    "        for k in range(4):\n",
    "            if couleur_pixel[k]%2==1 and liste_nb_pixels[0]%2==0:\n",
    "                couleur_pixel[k]-=1\n",
    "            elif couleur_pixel[k]%2==0 and liste_nb_pixels[0]%2==1:\n",
    "                couleur_pixel[k]+=1\n",
    "            del(liste_nb_pixels[0])\n",
    "        im.putpixel([x,y],tuple(couleur_pixel))\n",
    "    im.show()\n",
    "    im.save('pigeon_encode.png')\n",
    "\n",
    "# programme principal\n",
    "traitement_image('pigeon.png', 'hello')\n",
    "#print(decodage('pigeon_encode.png'))\n"
   ]
  }
 ],
 "metadata": {
  "kernelspec": {
   "display_name": "Python 3 (ipykernel)",
   "language": "python",
   "name": "python3"
  },
  "language_info": {
   "codemirror_mode": {
    "name": "ipython",
    "version": 3
   },
   "file_extension": ".py",
   "mimetype": "text/x-python",
   "name": "python",
   "nbconvert_exporter": "python",
   "pygments_lexer": "ipython3",
   "version": "3.12.1"
  }
 },
 "nbformat": 4,
 "nbformat_minor": 2
}
